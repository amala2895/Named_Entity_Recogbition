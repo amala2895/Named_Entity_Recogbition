{
 "cells": [
  {
   "cell_type": "code",
   "execution_count": 10,
   "metadata": {
    "colab": {
     "base_uri": "https://localhost:8080/",
     "height": 51
    },
    "colab_type": "code",
    "id": "26fJ4SAaBYb7",
    "outputId": "6520485b-8510-429a-f1db-64ad4c1b1baa"
   },
   "outputs": [
    {
     "name": "stdout",
     "output_type": "stream",
     "text": [
      "The autoreload extension is already loaded. To reload it, use:\n",
      "  %reload_ext autoreload\n"
     ]
    }
   ],
   "source": [
    "%load_ext autoreload\n",
    "%autoreload 2\n",
    "%matplotlib inline"
   ]
  },
  {
   "cell_type": "code",
   "execution_count": 0,
   "metadata": {
    "colab": {},
    "colab_type": "code",
    "collapsed": true,
    "id": "aPlImW1FozLf"
   },
   "outputs": [],
   "source": [
    "import numpy as np\n",
    "from torch import nn\n",
    "import json\n",
    "from numpy.random import shuffle\n",
    "import torch\n",
    "import torch.optim as optim\n",
    "import os, sys\n",
    "from time import time\n",
    "import torch.nn.functional as F"
   ]
  },
  {
   "cell_type": "code",
   "execution_count": 12,
   "metadata": {
    "colab": {
     "base_uri": "https://localhost:8080/",
     "height": 34
    },
    "colab_type": "code",
    "id": "op0W9tvYozLi",
    "outputId": "1f4768eb-c32c-4b27-e1ee-68ef5b55b729"
   },
   "outputs": [
    {
     "data": {
      "text/plain": [
       "device(type='cuda', index=0)"
      ]
     },
     "execution_count": 12,
     "metadata": {
      "tags": []
     },
     "output_type": "execute_result"
    }
   ],
   "source": [
    "device = torch.device(\"cuda:0\" if torch.cuda.is_available() else \"cpu\")\n",
    "device\n"
   ]
  },
  {
   "cell_type": "code",
   "execution_count": 13,
   "metadata": {
    "colab": {
     "base_uri": "https://localhost:8080/",
     "height": 34
    },
    "colab_type": "code",
    "id": "YsEc5NXqozLm",
    "outputId": "a41b34ab-f02a-4bf8-ee67-f3c93da9ded3"
   },
   "outputs": [
    {
     "data": {
      "text/plain": [
       "(23625, (23625, 300), 8)"
      ]
     },
     "execution_count": 13,
     "metadata": {
      "tags": []
     },
     "output_type": "execute_result"
    }
   ],
   "source": [
    "with open('lookup.json') as fl:\n",
    "    tag_lookup = json.load(fl)\n",
    "    \n",
    "with open('word_list.txt') as fl:\n",
    "    vocab = fl.read().split('\\n')\n",
    "\n",
    "embeds = np.load('word_embeds.npy')\n",
    "wlookup = { word: index for index, word in enumerate(vocab) }\n",
    "\n",
    "len(vocab), embeds.shape, len(tag_lookup)"
   ]
  },
  {
   "cell_type": "code",
   "execution_count": 45,
   "metadata": {
    "colab": {
     "base_uri": "https://localhost:8080/",
     "height": 34
    },
    "colab_type": "code",
    "id": "fgoO1UraozLp",
    "outputId": "84b57534-1212-4e4f-c9c8-fdd7a050c748"
   },
   "outputs": [
    {
     "data": {
      "text/plain": [
       "(0.376953125, 0.48046875)"
      ]
     },
     "execution_count": 45,
     "metadata": {
      "tags": []
     },
     "output_type": "execute_result"
    }
   ],
   "source": [
    "np.max(embeds[wlookup['Japan']]), np.max(embeds[wlookup['Russia']])"
   ]
  },
  {
   "cell_type": "code",
   "execution_count": 46,
   "metadata": {
    "colab": {
     "base_uri": "https://localhost:8080/",
     "height": 34
    },
    "colab_type": "code",
    "id": "NBgXtVPJozLt",
    "outputId": "3d5f3ab6-43da-497b-fac9-b0f61b9cdaac"
   },
   "outputs": [
    {
     "data": {
      "text/plain": [
       "(14986, 3465, 3683)"
      ]
     },
     "execution_count": 46,
     "metadata": {
      "tags": []
     },
     "output_type": "execute_result"
    }
   ],
   "source": [
    "with open('eng.train') as fl:\n",
    "    sents = fl.read().split('\\n\\n')[1:-1]\n",
    "    \n",
    "with open('eng.testa') as fl:\n",
    "    eval_sents = fl.read().split('\\n\\n')[1:-1]\n",
    "    \n",
    "with open('eng.testb') as fl:\n",
    "    test_sents = fl.read().split('\\n\\n')[1:-1]\n",
    "    \n",
    "len(sents), len(eval_sents), len(test_sents)"
   ]
  },
  {
   "cell_type": "code",
   "execution_count": 47,
   "metadata": {
    "colab": {
     "base_uri": "https://localhost:8080/",
     "height": 34
    },
    "colab_type": "code",
    "id": "oo809eNnozLy",
    "outputId": "14165bf2-28a5-4b0c-b041-056e6c7c9dde"
   },
   "outputs": [
    {
     "data": {
      "text/plain": [
       "((9, 300), (9, 8))"
      ]
     },
     "execution_count": 47,
     "metadata": {
      "tags": []
     },
     "output_type": "execute_result"
    }
   ],
   "source": [
    "def load_sent(sent):\n",
    "    words = sent.split('\\n')\n",
    "    inps = []\n",
    "    outs = []\n",
    "    for wordinfo in words:\n",
    "        word, _, _, tag = wordinfo.split()\n",
    "        try:\n",
    "            assert word in wlookup\n",
    "        except:\n",
    "            # word not in our known dictionary, so use the unk token\n",
    "            word = 'unk'\n",
    "        inps.append(embeds[wlookup[word]])\n",
    "        hot = np.zeros(len(tag_lookup))\n",
    "        hot[tag_lookup[tag]] = 1\n",
    "        outs.append(hot)\n",
    "    return [np.vstack(inps), np.vstack(outs)]\n",
    "\n",
    "ins, outs = load_sent(sents[0])\n",
    "ins.shape, outs.shape"
   ]
  },
  {
   "cell_type": "code",
   "execution_count": 0,
   "metadata": {
    "colab": {},
    "colab_type": "code",
    "collapsed": true,
    "id": "-d53QipcozL1"
   },
   "outputs": [],
   "source": [
    "def getLen(sent):\n",
    "    words = sent.split('\\n')\n",
    "    return len(words)\n",
    "train_len = [getLen(sent) for sent in sents]\n",
    "eval_len = [getLen(sent) for sent in eval_sents]\n",
    "test_len = [getLen(sent) for sent in test_sents]"
   ]
  },
  {
   "cell_type": "code",
   "execution_count": 49,
   "metadata": {
    "colab": {
     "base_uri": "https://localhost:8080/",
     "height": 34
    },
    "colab_type": "code",
    "id": "IX5cQpr-ozL8",
    "outputId": "fd36ed40-7ac0-41ea-e6ad-f817ec044176"
   },
   "outputs": [
    {
     "data": {
      "text/plain": [
       "[10531, 8622, 5422, 14098, 9483, 2019, 639, 11708, 12437, 14660]"
      ]
     },
     "execution_count": 49,
     "metadata": {
      "tags": []
     },
     "output_type": "execute_result"
    }
   ],
   "source": [
    "BSIZE = 20\n",
    "train_inds = list(range(len(sents)))\n",
    "shuffle(train_inds)\n",
    "train_inds[:10]"
   ]
  },
  {
   "cell_type": "code",
   "execution_count": 0,
   "metadata": {
    "colab": {},
    "colab_type": "code",
    "collapsed": true,
    "id": "rGITwdoKozL-"
   },
   "outputs": [],
   "source": [
    "class RNN(nn.Module):\n",
    "    def __init__(self, insize=300, outsize=8, hsize=128):\n",
    "        super().__init__()\n",
    "        \n",
    "        # TODO: Dropout\n",
    "        # TODO: nonlinearities\n",
    "        # TODO: Bidirectional\n",
    "\n",
    "        self.fc1=nn.Sequential(\n",
    "             nn.Dropout(p=0.3),\n",
    "             nn.Linear(hsize*2, hsize),\n",
    "            \n",
    "        )\n",
    "        self.fc2 = nn.Sequential(\n",
    "            nn.Dropout(p=0.2),\n",
    "            nn.Linear(hsize, outsize),\n",
    "            nn.Softmax(dim=-1)\n",
    "        )\n",
    "\n",
    "        # FIXME: this is a uni-directional LSTM\n",
    "       \n",
    "\n",
    "        self.rnn = nn.LSTM(insize, hsize, 1, batch_first=True, bidirectional=True)\n",
    "\n",
    "    def forward(self, inputs, seq_lengths, hidden=None):\n",
    "        dim = inputs.shape\n",
    "        \n",
    "        \n",
    "        hin = torch.nn.utils.rnn.pack_padded_sequence(inputs, seq_lengths, batch_first=True)\n",
    "        hout, hidden = self.rnn(hin)\n",
    "        \n",
    "        hout, _= torch.nn.utils.rnn.pad_packed_sequence(hout, batch_first=True) \n",
    "        \n",
    "        hout = hout.contiguous()\n",
    "        hout = hout.view(-1, hout.shape[2])\n",
    "        \n",
    "        fout = self.fc1(F.relu(hout))\n",
    "        \n",
    "        yout = self.fc2(F.relu(fout))\n",
    "        \n",
    "        \n",
    "        yout = yout.view(dim[0], dim[1],-1)\n",
    "        \n",
    "        \n",
    "        return yout, hidden\n",
    "    \n",
    "model = RNN().to(device)\n",
    "\n",
    "\n",
    "criterion = nn.CrossEntropyLoss(reduction='none').cuda()\n",
    "opt = optim.Adam(model.parameters(), lr=0.0015)\n"
   ]
  },
  {
   "cell_type": "code",
   "execution_count": 0,
   "metadata": {
    "colab": {},
    "colab_type": "code",
    "collapsed": true,
    "id": "DJubtSt1ozL_"
   },
   "outputs": [],
   "source": [
    "def loss_func(Y_hat, Y, seq_len):\n",
    "    \n",
    "    Y =  torch.argmax(Y, dim=2) \n",
    "    np_array = Y.cpu().numpy()\n",
    "    mask = np.zeros_like(np_array)\n",
    "    for i in range(Y.shape[0]):\n",
    "        mask[i,:seq_len[i]] = 1    \n",
    "    \n",
    "    Y_hat = Y_hat.permute(0,2,1)\n",
    "    \n",
    "    l = criterion(Y_hat, Y)\n",
    "    \n",
    "    mask = n2t(mask)\n",
    "    l = l * mask\n",
    "    mask = mask.cpu().numpy()\n",
    "    total = int(np.count_nonzero(mask))\n",
    "    \n",
    "    l = torch.sum(l)\n",
    "    l = l / total\n",
    "    return l"
   ]
  },
  {
   "cell_type": "code",
   "execution_count": 70,
   "metadata": {
    "colab": {
     "base_uri": "https://localhost:8080/",
     "height": 34
    },
    "colab_type": "code",
    "id": "1bD9PZ9LozMC",
    "outputId": "19e0383a-ac35-488f-d8ab-f0f4c36e8488"
   },
   "outputs": [
    {
     "name": "stdout",
     "output_type": "stream",
     "text": [
      "Eval: 2.0813\n"
     ]
    }
   ],
   "source": [
    "EPS = 20\n",
    "train_loss = []\n",
    "eval_loss = []\n",
    "n2t = lambda narr: torch.from_numpy(narr).to(device).float()\n",
    "\n",
    "def eval_model(evaldata, data_len, results=False, predictions= False):\n",
    "    model.eval()\n",
    "    losses = []\n",
    "    ypreds = []\n",
    "    seq_length = data_len\n",
    "    for i, sent in enumerate(evaldata):\n",
    "        Xs, Ys = zip(*[load_sent(sent)])\n",
    "        Xs_len = [seq_length[i]]\n",
    "        \n",
    "        Xs, Ys, Xs_len = np.array(Xs), np.array(Ys), np.array(Xs_len)\n",
    "        Xs, Ys = n2t(Xs), n2t(Ys)\n",
    "        \n",
    "        \n",
    "        \n",
    "        with torch.no_grad():\n",
    "            yhat, _ = model(Xs, Xs_len)\n",
    "            ypreds.append(yhat)\n",
    "           \n",
    "            Ys_num = Ys\n",
    "            \n",
    "            loss = loss_func(yhat, Ys_num, Xs_len)\n",
    "            losses.append(loss.item())\n",
    "    print('Eval: %.4f' % np.mean(losses))\n",
    "    \n",
    "    if predictions: \n",
    "        return ypreds\n",
    "    else:\n",
    "        return np.mean(losses)\n",
    "    \n",
    "eval_loss.append(eval_model(eval_sents,eval_len))"
   ]
  },
  {
   "cell_type": "code",
   "execution_count": 71,
   "metadata": {
    "colab": {
     "base_uri": "https://localhost:8080/",
     "height": 697
    },
    "colab_type": "code",
    "id": "vuT_pPUaozMF",
    "outputId": "f7379c2b-fa23-4262-bd94-511d0259428d",
    "scrolled": false
   },
   "outputs": [
    {
     "name": "stdout",
     "output_type": "stream",
     "text": [
      "[E1/20 - B14961/14986] Train: 1.4576 (elapsed: 9.79s)\n",
      "Eval: 1.4884\n",
      "[E2/20 - B14961/14986] Train: 1.3239 (elapsed: 9.73s)\n",
      "Eval: 1.3524\n",
      "[E3/20 - B14961/14986] Train: 1.3067 (elapsed: 10.04s)\n",
      "Eval: 1.3271\n",
      "[E4/20 - B14961/14986] Train: 1.2833 (elapsed: 9.74s)\n",
      "Eval: 1.3200\n",
      "[E5/20 - B14961/14986] Train: 1.2856 (elapsed: 9.72s)\n",
      "Eval: 1.3143\n",
      "[E6/20 - B14961/14986] Train: 1.2849 (elapsed: 9.74s)\n",
      "Eval: 1.3146\n",
      "[E7/20 - B14961/14986] Train: 1.2880 (elapsed: 9.72s)\n",
      "Eval: 1.3135\n",
      "[E8/20 - B14961/14986] Train: 1.2795 (elapsed: 9.80s)\n",
      "Eval: 1.3145\n",
      "[E9/20 - B14961/14986] Train: 1.2831 (elapsed: 10.08s)\n",
      "Eval: 1.3130\n",
      "[E10/20 - B14961/14986] Train: 1.3050 (elapsed: 9.74s)\n",
      "Eval: 1.3121\n",
      "[E11/20 - B14961/14986] Train: 1.2925 (elapsed: 9.73s)\n",
      "Eval: 1.3131\n",
      "[E12/20 - B14961/14986] Train: 1.2962 (elapsed: 9.79s)\n",
      "Eval: 1.3132\n",
      "[E13/20 - B14961/14986] Train: 1.2860 (elapsed: 9.76s)\n",
      "Eval: 1.3125\n",
      "[E14/20 - B14961/14986] Train: 1.2937 (elapsed: 10.46s)\n",
      "Eval: 1.3160\n",
      "[E15/20 - B14961/14986] Train: 1.2785 (elapsed: 9.73s)\n",
      "Eval: 1.3111\n",
      "[E16/20 - B14961/14986] Train: 1.2784 (elapsed: 9.85s)\n",
      "Eval: 1.3132\n",
      "[E17/20 - B14961/14986] Train: 1.2776 (elapsed: 10.24s)\n",
      "Eval: 1.3161\n",
      "[E18/20 - B14961/14986] Train: 1.2869 (elapsed: 10.86s)\n",
      "Eval: 1.3141\n",
      "[E19/20 - B14961/14986] Train: 1.2804 (elapsed: 10.51s)\n",
      "Eval: 1.3124\n",
      "[E20/20 - B14961/14986] Train: 1.2740 (elapsed: 9.81s)\n",
      "Eval: 1.3110\n"
     ]
    }
   ],
   "source": [
    "\n",
    "for epoch in range(EPS):\n",
    "    model.train()\n",
    "    \n",
    "    t0 = time()\n",
    "    batch_loss = []\n",
    "    for bi in range(0, len(train_inds)-BSIZE, BSIZE):\n",
    "        inds = train_inds[bi:bi+BSIZE]\n",
    "        \n",
    "        inds.sort(key=lambda x: train_len[x], reverse=True)\n",
    "     \n",
    "        # TODO: correct formatting for batchsize >1\n",
    "        Xs, Ys = zip(*[load_sent(sents[ind]) for ind in inds])\n",
    "      \n",
    "        Xs_length = [x.shape[0] for x in Xs]\n",
    "        \n",
    "        max_seq = np.max(Xs_length)\n",
    "        \n",
    "        Xs = list(Xs)\n",
    "        Xs = [np.vstack((x,np.zeros((max_seq-x.shape[0],300)))) for x in Xs]\n",
    "        Ys = [np.vstack((y,np.zeros((max_seq-y.shape[0],8)))) for y in Ys]\n",
    "        \n",
    "       \n",
    "        Xs, Ys = np.array(Xs), np.array(Ys)\n",
    "        \n",
    "        Xs, Ys = n2t(Xs), n2t(Ys)\n",
    "\n",
    "        yhat, _ = model(Xs, Xs_length)\n",
    "        \n",
    "        Ys_num = Ys\n",
    "\n",
    "        opt.zero_grad()\n",
    "        \n",
    "        loss = loss_func(yhat, Ys_num,Xs_length)\n",
    "        loss.backward()\n",
    "        opt.step()\n",
    "\n",
    "        sys.stdout.write('\\r[E%d/%d - B%d/%d] Train: %.4f ' % (\n",
    "            epoch+1, EPS,\n",
    "            bi+1, len(train_inds),\n",
    "            loss.item(),\n",
    "        ))\n",
    "        batch_loss.append(loss.item())\n",
    "    train_loss.append(np.mean(batch_loss))\n",
    "    sys.stdout.write('(elapsed: %.2fs)\\n' % (time() - t0))\n",
    "    sys.stdout.flush()\n",
    "    \n",
    "    loss = eval_model(eval_sents,eval_len)\n",
    "    eval_loss.append(loss)\n",
    "        \n",
    "    # TODO: shuffle train inds\n",
    "    shuffle(train_inds)"
   ]
  },
  {
   "cell_type": "markdown",
   "metadata": {
    "colab_type": "text",
    "id": "ee0iQCYsF10u"
   },
   "source": [
    "LSTM Network is used to predict the NER tags of words given a sentence. To imrove the performance of the given model I have added following things -\n",
    "\n",
    "1. The batch size was increase to 20. But with this there was a problem that each sentence had different lengths which the model will not accept. Hence, padding was done to make the all sentences have same length. Initally the padding was done such that each sentence will have length equal to length of sentence with maximum words in entire data set. But this did not give the best results\n",
    "2. CrossEntropy loss criterion was used instead of MSEloss.\n",
    "3. To over come the problem of different lengths of sentences padding was done batch wise. All sentences in a batch will have same length which would be maximum of the sentences in that batch.\n",
    "4. As with padded sentences the Network would see a lot of un wanted padded values which are not very useful. So to over come this I used pytorch's pad_packed_sequence.\n",
    "5. The packing was undone after the LSTM layer.\n",
    "6. I also added a custom loss function because we dont want to calculate loss on the padded indexes.\n",
    "7. I passed the sequence directly to the LSTM, made the LSTM bidirectional\n",
    "8. The output of LSTM was passed through a non linear layer of ReLU\n",
    "9. The output of ReLU was passed through a Dropout layer (0.3), Linear FC layer (input - 256, output - 128)\n",
    "10. The above output was passed through a ReLU layer, Dropout layer (0.2), Linear Layer (input - 128, output - 8) and finally Softmax\n",
    "11. I used the Adam Optimizer, 20 epochs and 0.0015 Learning rate\n",
    "\n",
    "**Hyper Parameter Tuning Steps**\n",
    "\n",
    "1. Increased the number of LSTM layers and added dropout within those layers but it did not give better performance (F1 accuracy - 70)\n",
    "\n",
    "2. The dropout layer was initially made default p=0.5 (F1 accuracy - 71) but reducing it gradually gave better results\n",
    "\n",
    "3. Without adding non linearity ReLU the F1 accuracy was coming to be 71.5 and adding the non linearity helped improve the accuracy.\n",
    "\n",
    "4. The learning rate 0.0005, 0.001 and 0.0015 and the accuracy increased for each higher learning rate but reduced for learning rate beyond 0.02"
   ]
  },
  {
   "cell_type": "code",
   "execution_count": 0,
   "metadata": {
    "colab": {},
    "colab_type": "code",
    "collapsed": true,
    "id": "5y_ciH4eozMH"
   },
   "outputs": [],
   "source": [
    "import matplotlib.pyplot as plt"
   ]
  },
  {
   "cell_type": "code",
   "execution_count": 73,
   "metadata": {
    "colab": {
     "base_uri": "https://localhost:8080/",
     "height": 234
    },
    "colab_type": "code",
    "id": "PytMpMwPozMJ",
    "outputId": "9c81a9d3-493e-4cc6-c779-e63f36d6cb26"
   },
   "outputs": [
    {
     "data": {
      "image/png": "[encoded data removed]",
      "text/plain": [
       "<Figure size 1008x216 with 1 Axes>"
      ]
     },
     "metadata": {
      "tags": []
     },
     "output_type": "display_data"
    }
   ],
   "source": [
    "plt.figure(figsize=(14, 3))\n",
    "plt.plot(train_loss, label = 'Train Loss')\n",
    "plt.plot(eval_loss[1:], label = 'Val Loss')\n",
    "plt.legend()\n",
    "plt.show(); plt.close()"
   ]
  },
  {
   "cell_type": "code",
   "execution_count": 74,
   "metadata": {
    "colab": {
     "base_uri": "https://localhost:8080/",
     "height": 34
    },
    "colab_type": "code",
    "id": "YwywKj8_ozML",
    "outputId": "4abe2ac9-d7cb-4e8c-b99a-50fd05815967"
   },
   "outputs": [
    {
     "name": "stdout",
     "output_type": "stream",
     "text": [
      "Eval: 1.3392\n"
     ]
    }
   ],
   "source": [
    "test_results = eval_model(test_sents, test_len, results=True, predictions=True)"
   ]
  },
  {
   "cell_type": "code",
   "execution_count": 0,
   "metadata": {
    "colab": {},
    "colab_type": "code",
    "collapsed": true,
    "id": "5YMqWmhMozMR"
   },
   "outputs": [],
   "source": [
    "index2tag = { index: tag for tag, index in tag_lookup.items() }\n",
    "with open('nn.output' , 'w') as fl:\n",
    "    assert len(test_results) == len(test_sents)\n",
    "    for ti, (yhat, schunk) in enumerate(zip(test_results, test_sents)):\n",
    "        yhat = yhat.detach().cpu().numpy()\n",
    "        for wi, wordinfo in enumerate(schunk.split('\\n')):\n",
    "            word, _, _, tag = wordinfo.split()\n",
    "            taghat = index2tag[np.argmax(yhat[0, wi, :])]\n",
    "\n",
    "            fl.write('%s %s %s\\n' % (word, taghat, tag))\n",
    "        fl.write('\\n')"
   ]
  },
  {
   "cell_type": "code",
   "execution_count": 76,
   "metadata": {
    "colab": {
     "base_uri": "https://localhost:8080/",
     "height": 139
    },
    "colab_type": "code",
    "id": "mHxBdbTlozMh",
    "outputId": "348106dc-0071-4049-c48f-ec7b8acbe90d"
   },
   "outputs": [
    {
     "name": "stdout",
     "output_type": "stream",
     "text": [
      "processed 46665 tokens with 4588 phrases; found: 5648 phrases; correct: 3759.\n",
      "accuracy:  94.45%; precision:  66.55%; recall:  81.93%; FB1:  73.45\n",
      "              LOC: precision:  80.28%; recall:  88.56%; FB1:  84.21  1668\n",
      "             MISC: precision:  68.80%; recall:  77.78%; FB1:  73.02  702\n",
      "              ORG: precision:  60.93%; recall:  76.78%; FB1:  67.94  1661\n",
      "              PER: precision:  57.20%; recall:  81.35%; FB1:  67.18  1617\n"
     ]
    }
   ],
   "source": [
    "!python conlleval.py nn.output "
   ]
  },
  {
   "cell_type": "markdown",
   "metadata": {},
   "source": [
    "# **STORING RESULTS FOR QUESTION 3**\n",
    "\n",
    "\n",
    "For question 3 we need the prediction of all sentences in train, eval and test. Hence i calculated the predictions for all three data set and stored it in a file as per the order of AIDA dataset. "
   ]
  },
  {
   "cell_type": "code",
   "execution_count": 77,
   "metadata": {
    "colab": {
     "base_uri": "https://localhost:8080/",
     "height": 34
    },
    "colab_type": "code",
    "id": "JWAfkz0ZcQEw",
    "outputId": "cfef6879-4c2c-4913-f288-f2c60a4f4c4f"
   },
   "outputs": [
    {
     "name": "stdout",
     "output_type": "stream",
     "text": [
      "Eval: 1.3110\n"
     ]
    }
   ],
   "source": [
    "val_results = eval_model(eval_sents,eval_len, results=True, predictions=True) "
   ]
  },
  {
   "cell_type": "code",
   "execution_count": 78,
   "metadata": {
    "colab": {
     "base_uri": "https://localhost:8080/",
     "height": 34
    },
    "colab_type": "code",
    "id": "z9VxJh3fcPyo",
    "outputId": "04bac3b8-0962-4523-ebfe-5b419da8cce5"
   },
   "outputs": [
    {
     "name": "stdout",
     "output_type": "stream",
     "text": [
      "Eval: 1.2874\n"
     ]
    }
   ],
   "source": [
    "train_results = eval_model(sents, train_len, results=True, predictions=True) "
   ]
  },
  {
   "cell_type": "code",
   "execution_count": 0,
   "metadata": {
    "colab": {},
    "colab_type": "code",
    "collapsed": true,
    "id": "15y_Z86QozMl"
   },
   "outputs": [],
   "source": [
    "index2tag = { index: tag for tag, index in tag_lookup.items() }\n",
    "with open('entire.output' , 'w') as fl:\n",
    "    assert len(train_results) == len(sents)\n",
    "    for ti, (yhat, schunk) in enumerate(zip(train_results, sents)):\n",
    "        yhat = yhat.detach().cpu().numpy()\n",
    "        for wi, wordinfo in enumerate(schunk.split('\\n')):\n",
    "            word, _, _, tag = wordinfo.split()\n",
    "            taghat = index2tag[np.argmax(yhat[0, wi, :])]\n",
    "\n",
    "            fl.write('%s %s %s\\n' % (word, taghat, tag))\n",
    "        fl.write('\\n')"
   ]
  },
  {
   "cell_type": "code",
   "execution_count": 0,
   "metadata": {
    "colab": {},
    "colab_type": "code",
    "collapsed": true,
    "id": "CvjQvHLrcpVn"
   },
   "outputs": [],
   "source": [
    "index2tag = { index: tag for tag, index in tag_lookup.items() }\n",
    "with open('entire.output' , 'a') as fl:\n",
    "    assert len(val_results) == len(eval_sents)\n",
    "    for ti, (yhat, schunk) in enumerate(zip(val_results, eval_sents)):\n",
    "        yhat = yhat.detach().cpu().numpy()\n",
    "        for wi, wordinfo in enumerate(schunk.split('\\n')):\n",
    "            word, _, _, tag = wordinfo.split()\n",
    "            taghat = index2tag[np.argmax(yhat[0, wi, :])]\n",
    "\n",
    "            fl.write('%s %s %s\\n' % (word, taghat, tag))\n",
    "        fl.write('\\n')"
   ]
  },
  {
   "cell_type": "code",
   "execution_count": 0,
   "metadata": {
    "colab": {},
    "colab_type": "code",
    "collapsed": true,
    "id": "VXQojWo_c3ti"
   },
   "outputs": [],
   "source": [
    "index2tag = { index: tag for tag, index in tag_lookup.items() }\n",
    "with open('entire.output' , 'a') as fl:\n",
    "    assert len(test_results) == len(test_sents)\n",
    "    for ti, (yhat, schunk) in enumerate(zip(test_results, test_sents)):\n",
    "        yhat = yhat.detach().cpu().numpy()\n",
    "        for wi, wordinfo in enumerate(schunk.split('\\n')):\n",
    "            word, _, _, tag = wordinfo.split()\n",
    "            taghat = index2tag[np.argmax(yhat[0, wi, :])]\n",
    "\n",
    "            fl.write('%s %s %s\\n' % (word, taghat, tag))\n",
    "        fl.write('\\n')"
   ]
  }
 ],
 "metadata": {
  "accelerator": "GPU",
  "colab": {
   "collapsed_sections": [],
   "name": "Question2.ipynb",
   "provenance": [],
   "version": "0.3.2"
  },
  "kernelspec": {
   "display_name": "Python 3",
   "language": "python",
   "name": "python3"
  },
  "language_info": {
   "codemirror_mode": {
    "name": "ipython",
    "version": 3
   },
   "file_extension": ".py",
   "mimetype": "text/x-python",
   "name": "python",
   "nbconvert_exporter": "python",
   "pygments_lexer": "ipython3",
   "version": "3.6.6"
  }
 },
 "nbformat": 4,
 "nbformat_minor": 1
}

{
 "cells": [
  {
   "cell_type": "code",
   "execution_count": 1,
   "metadata": {
    "collapsed": true
   },
   "outputs": [],
   "source": [
    "import pandas as pd\n",
    "import itertools"
   ]
  },
  {
   "cell_type": "markdown",
   "metadata": {},
   "source": [
    "The file below contains the predictions NER tag for sentences in train, testa, testb data from conll dataset, caluclated based on the model made by me "
   ]
  },
  {
   "cell_type": "code",
   "execution_count": 2,
   "metadata": {
    "collapsed": true
   },
   "outputs": [],
   "source": [
    "with open('entire.output') as fl:\n",
    "    output = fl.read().split(\"\\n\")"
   ]
  },
  {
   "cell_type": "code",
   "execution_count": 3,
   "metadata": {
    "collapsed": true
   },
   "outputs": [],
   "source": [
    "df = pd.DataFrame(columns=['Tokens', 'NERTag', 'WikiPage'])"
   ]
  },
  {
   "cell_type": "markdown",
   "metadata": {},
   "source": [
    "This file contains the Wiki Page links to entities/ sequence of tokens/ sequence of words in Conll dataset"
   ]
  },
  {
   "cell_type": "code",
   "execution_count": 4,
   "metadata": {
    "collapsed": true
   },
   "outputs": [],
   "source": [
    "with open('AIDA-YAGO2-dataset.tsv') as fl:\n",
    "    aida = fl.read().split(\"\\n\")"
   ]
  },
  {
   "cell_type": "code",
   "execution_count": 5,
   "metadata": {
    "collapsed": true
   },
   "outputs": [],
   "source": [
    "output_final=[]\n",
    "# Removing blank lines, DOCTSTART lines from both files \n",
    "for k in range(0, len(output)):\n",
    "    \n",
    "    if \"DOCSTART\" in output[k] or output[k] is \"\" :\n",
    "        continue\n",
    "    output_final.append(output[k])\n",
    "    \n",
    "aida_final=[]\n",
    "for m in range(0,len(aida)):\n",
    "    if \"DOCSTART\" in aida[m] or aida[m] is \"\" :\n",
    "        continue\n",
    "    aida_final.append(aida[m])"
   ]
  },
  {
   "cell_type": "code",
   "execution_count": 6,
   "metadata": {},
   "outputs": [
    {
     "data": {
      "text/plain": [
       "(301418, 301418)"
      ]
     },
     "execution_count": 6,
     "metadata": {},
     "output_type": "execute_result"
    }
   ],
   "source": [
    "len(output_final),len(aida_final)"
   ]
  },
  {
   "cell_type": "markdown",
   "metadata": {},
   "source": [
    "I am using these two files to calculate the probability of Wiki pages. As seen below the variable output_final tells us the predicted NER Tag in the second column for each word. \n",
    "\n",
    "The aida_final variable tells us the Wiki Page for certain words/Sequence of words. Each word with Tag(second column) as 'B' is an entity whose Wiki Page might be given. Each word with Tag(second column) as 'I' is continuation of previous word like 'European Commission'.\n",
    "\n",
    "So i mapped the output_final, aida_final word by word to get NER tag of all word/sequence of words whose Wiki Page is available"
   ]
  },
  {
   "cell_type": "code",
   "execution_count": 7,
   "metadata": {},
   "outputs": [
    {
     "data": {
      "text/plain": [
       "(['EU I-ORG I-ORG',\n",
       "  'rejects O O',\n",
       "  'German I-MISC I-MISC',\n",
       "  'call O O',\n",
       "  'to O O',\n",
       "  'boycott O O',\n",
       "  'British I-MISC I-MISC',\n",
       "  'lamb O O',\n",
       "  '. O O'],\n",
       " ['EU\\tB\\tEU\\t--NME--',\n",
       "  'rejects',\n",
       "  'German\\tB\\tGerman\\tGermany\\thttp://en.wikipedia.org/wiki/Germany\\t11867\\t/m/0345h',\n",
       "  'call',\n",
       "  'to',\n",
       "  'boycott',\n",
       "  'British\\tB\\tBritish\\tUnited_Kingdom\\thttp://en.wikipedia.org/wiki/United_Kingdom\\t31717\\t/m/07ssc',\n",
       "  'lamb',\n",
       "  '.'])"
      ]
     },
     "execution_count": 7,
     "metadata": {},
     "output_type": "execute_result"
    }
   ],
   "source": [
    "output_final[0:9], aida_final[0:9]"
   ]
  },
  {
   "cell_type": "code",
   "execution_count": 8,
   "metadata": {
    "collapsed": true
   },
   "outputs": [],
   "source": [
    "\n",
    "Tokens=\"\"\n",
    "Url=\"\"\n",
    "for i in range(0,len(aida_final)):\n",
    "    \n",
    "    f=output_final[i]\n",
    "    b=aida_final[i]\n",
    "    f=f.split(\" \")\n",
    "   \n",
    "    b=b.split(\"\\t\")\n",
    "    if(f[0] !=b[0]):\n",
    "        print(\"something wrong\",f,b)\n",
    "        break\n",
    "    \n",
    "    if(len(b)>4):\n",
    "        if(b[4]!=\"\"):\n",
    "            if(b[1]=='B'):\n",
    "                \n",
    "                \n",
    "                Tokens= b[2]\n",
    "                Url=b[4]\n",
    "                Tag=f[1]\n",
    "               \n",
    "\n",
    "\n",
    "               \n",
    "                df = df.append({\n",
    "                 \"Tokens\": Tokens,\n",
    "                 \"NERTag\":  Tag,\n",
    "                  \"WikiPage\":Url\n",
    "                  }, ignore_index=True)\n",
    "    \n",
    "    "
   ]
  },
  {
   "cell_type": "code",
   "execution_count": 9,
   "metadata": {},
   "outputs": [
    {
     "data": {
      "text/html": [
       "<div>\n",
       "<style>\n",
       "    .dataframe thead tr:only-child th {\n",
       "        text-align: right;\n",
       "    }\n",
       "\n",
       "    .dataframe thead th {\n",
       "        text-align: left;\n",
       "    }\n",
       "\n",
       "    .dataframe tbody tr th {\n",
       "        vertical-align: top;\n",
       "    }\n",
       "</style>\n",
       "<table border=\"1\" class=\"dataframe\">\n",
       "  <thead>\n",
       "    <tr style=\"text-align: right;\">\n",
       "      <th></th>\n",
       "      <th>Tokens</th>\n",
       "      <th>NERTag</th>\n",
       "      <th>WikiPage</th>\n",
       "    </tr>\n",
       "  </thead>\n",
       "  <tbody>\n",
       "    <tr>\n",
       "      <th>0</th>\n",
       "      <td>German</td>\n",
       "      <td>I-MISC</td>\n",
       "      <td>http://en.wikipedia.org/wiki/Germany</td>\n",
       "    </tr>\n",
       "    <tr>\n",
       "      <th>1</th>\n",
       "      <td>British</td>\n",
       "      <td>I-MISC</td>\n",
       "      <td>http://en.wikipedia.org/wiki/United_Kingdom</td>\n",
       "    </tr>\n",
       "    <tr>\n",
       "      <th>2</th>\n",
       "      <td>BRUSSELS</td>\n",
       "      <td>I-LOC</td>\n",
       "      <td>http://en.wikipedia.org/wiki/Brussels</td>\n",
       "    </tr>\n",
       "    <tr>\n",
       "      <th>3</th>\n",
       "      <td>European Commission</td>\n",
       "      <td>I-ORG</td>\n",
       "      <td>http://en.wikipedia.org/wiki/European_Commission</td>\n",
       "    </tr>\n",
       "    <tr>\n",
       "      <th>4</th>\n",
       "      <td>German</td>\n",
       "      <td>I-MISC</td>\n",
       "      <td>http://en.wikipedia.org/wiki/Germany</td>\n",
       "    </tr>\n",
       "    <tr>\n",
       "      <th>5</th>\n",
       "      <td>British</td>\n",
       "      <td>I-MISC</td>\n",
       "      <td>http://en.wikipedia.org/wiki/United_Kingdom</td>\n",
       "    </tr>\n",
       "    <tr>\n",
       "      <th>6</th>\n",
       "      <td>Germany</td>\n",
       "      <td>I-LOC</td>\n",
       "      <td>http://en.wikipedia.org/wiki/Germany</td>\n",
       "    </tr>\n",
       "    <tr>\n",
       "      <th>7</th>\n",
       "      <td>European Union</td>\n",
       "      <td>I-ORG</td>\n",
       "      <td>http://en.wikipedia.org/wiki/European_Union</td>\n",
       "    </tr>\n",
       "    <tr>\n",
       "      <th>8</th>\n",
       "      <td>Britain</td>\n",
       "      <td>I-LOC</td>\n",
       "      <td>http://en.wikipedia.org/wiki/United_Kingdom</td>\n",
       "    </tr>\n",
       "    <tr>\n",
       "      <th>9</th>\n",
       "      <td>Commission</td>\n",
       "      <td>I-ORG</td>\n",
       "      <td>http://en.wikipedia.org/wiki/European_Commission</td>\n",
       "    </tr>\n",
       "  </tbody>\n",
       "</table>\n",
       "</div>"
      ],
      "text/plain": [
       "                Tokens  NERTag  \\\n",
       "0               German  I-MISC   \n",
       "1              British  I-MISC   \n",
       "2             BRUSSELS   I-LOC   \n",
       "3  European Commission   I-ORG   \n",
       "4               German  I-MISC   \n",
       "5              British  I-MISC   \n",
       "6              Germany   I-LOC   \n",
       "7       European Union   I-ORG   \n",
       "8              Britain   I-LOC   \n",
       "9           Commission   I-ORG   \n",
       "\n",
       "                                           WikiPage  \n",
       "0              http://en.wikipedia.org/wiki/Germany  \n",
       "1       http://en.wikipedia.org/wiki/United_Kingdom  \n",
       "2             http://en.wikipedia.org/wiki/Brussels  \n",
       "3  http://en.wikipedia.org/wiki/European_Commission  \n",
       "4              http://en.wikipedia.org/wiki/Germany  \n",
       "5       http://en.wikipedia.org/wiki/United_Kingdom  \n",
       "6              http://en.wikipedia.org/wiki/Germany  \n",
       "7       http://en.wikipedia.org/wiki/European_Union  \n",
       "8       http://en.wikipedia.org/wiki/United_Kingdom  \n",
       "9  http://en.wikipedia.org/wiki/European_Commission  "
      ]
     },
     "execution_count": 9,
     "metadata": {},
     "output_type": "execute_result"
    }
   ],
   "source": [
    "df.head(10)"
   ]
  },
  {
   "cell_type": "code",
   "execution_count": 10,
   "metadata": {
    "collapsed": true
   },
   "outputs": [],
   "source": [
    "\n",
    "groupby_page=df.groupby(['Tokens','NERTag','WikiPage'])\n"
   ]
  },
  {
   "cell_type": "code",
   "execution_count": 11,
   "metadata": {
    "collapsed": true
   },
   "outputs": [],
   "source": [
    "groupby_key=df.groupby(['Tokens','NERTag']).size()\n"
   ]
  },
  {
   "cell_type": "code",
   "execution_count": 12,
   "metadata": {
    "collapsed": true
   },
   "outputs": [],
   "source": [
    "df_prob = pd.DataFrame(columns=['Tokens', 'NERTag', 'WikiPage','Probability' ])\n",
    "for name, group in groupby_page:\n",
    "    \n",
    "    p=len(group)/groupby_key[name[0],name[1]]\n",
    "    \n",
    "    df_prob = df_prob.append({\n",
    "                 \"Tokens\": name[0],\n",
    "                 \"NERTag\":  name[1],\n",
    "                 \"WikiPage\":name[2],\n",
    "                 \"Probability\":p\n",
    "                  }, ignore_index=True)\n",
    "    \n",
    "    "
   ]
  },
  {
   "cell_type": "code",
   "execution_count": 13,
   "metadata": {
    "collapsed": true
   },
   "outputs": [],
   "source": [
    "df_prob=df_prob.groupby('Tokens').apply(lambda x: x.sort_values('Probability', ascending=False))"
   ]
  },
  {
   "cell_type": "code",
   "execution_count": 14,
   "metadata": {},
   "outputs": [
    {
     "data": {
      "text/html": [
       "<div>\n",
       "<style>\n",
       "    .dataframe thead tr:only-child th {\n",
       "        text-align: right;\n",
       "    }\n",
       "\n",
       "    .dataframe thead th {\n",
       "        text-align: left;\n",
       "    }\n",
       "\n",
       "    .dataframe tbody tr th {\n",
       "        vertical-align: top;\n",
       "    }\n",
       "</style>\n",
       "<table border=\"1\" class=\"dataframe\">\n",
       "  <thead>\n",
       "    <tr style=\"text-align: right;\">\n",
       "      <th></th>\n",
       "      <th>Tokens</th>\n",
       "      <th>NERTag</th>\n",
       "      <th>WikiPage</th>\n",
       "      <th>Probability</th>\n",
       "    </tr>\n",
       "  </thead>\n",
       "  <tbody>\n",
       "    <tr>\n",
       "      <th>2654</th>\n",
       "      <td>German</td>\n",
       "      <td>I-ORG</td>\n",
       "      <td>http://en.wikipedia.org/wiki/Germany</td>\n",
       "      <td>1.000000</td>\n",
       "    </tr>\n",
       "    <tr>\n",
       "      <th>2652</th>\n",
       "      <td>German</td>\n",
       "      <td>I-MISC</td>\n",
       "      <td>http://en.wikipedia.org/wiki/Germany</td>\n",
       "      <td>0.946903</td>\n",
       "    </tr>\n",
       "    <tr>\n",
       "      <th>2650</th>\n",
       "      <td>German</td>\n",
       "      <td>I-MISC</td>\n",
       "      <td>http://en.wikipedia.org/wiki/German_language</td>\n",
       "      <td>0.026549</td>\n",
       "    </tr>\n",
       "    <tr>\n",
       "      <th>2653</th>\n",
       "      <td>German</td>\n",
       "      <td>I-MISC</td>\n",
       "      <td>http://en.wikipedia.org/wiki/Nazi_Germany</td>\n",
       "      <td>0.017699</td>\n",
       "    </tr>\n",
       "    <tr>\n",
       "      <th>2651</th>\n",
       "      <td>German</td>\n",
       "      <td>I-MISC</td>\n",
       "      <td>http://en.wikipedia.org/wiki/Germans</td>\n",
       "      <td>0.008850</td>\n",
       "    </tr>\n",
       "  </tbody>\n",
       "</table>\n",
       "</div>"
      ],
      "text/plain": [
       "      Tokens  NERTag                                      WikiPage  \\\n",
       "2654  German   I-ORG          http://en.wikipedia.org/wiki/Germany   \n",
       "2652  German  I-MISC          http://en.wikipedia.org/wiki/Germany   \n",
       "2650  German  I-MISC  http://en.wikipedia.org/wiki/German_language   \n",
       "2653  German  I-MISC     http://en.wikipedia.org/wiki/Nazi_Germany   \n",
       "2651  German  I-MISC          http://en.wikipedia.org/wiki/Germans   \n",
       "\n",
       "      Probability  \n",
       "2654     1.000000  \n",
       "2652     0.946903  \n",
       "2650     0.026549  \n",
       "2653     0.017699  \n",
       "2651     0.008850  "
      ]
     },
     "execution_count": 14,
     "metadata": {},
     "output_type": "execute_result"
    }
   ],
   "source": [
    "df_prob.loc['German']"
   ]
  },
  {
   "cell_type": "code",
   "execution_count": 15,
   "metadata": {},
   "outputs": [
    {
     "data": {
      "text/html": [
       "<div>\n",
       "<style>\n",
       "    .dataframe thead tr:only-child th {\n",
       "        text-align: right;\n",
       "    }\n",
       "\n",
       "    .dataframe thead th {\n",
       "        text-align: left;\n",
       "    }\n",
       "\n",
       "    .dataframe tbody tr th {\n",
       "        vertical-align: top;\n",
       "    }\n",
       "</style>\n",
       "<table border=\"1\" class=\"dataframe\">\n",
       "  <thead>\n",
       "    <tr style=\"text-align: right;\">\n",
       "      <th></th>\n",
       "      <th>Tokens</th>\n",
       "      <th>NERTag</th>\n",
       "      <th>WikiPage</th>\n",
       "      <th>Probability</th>\n",
       "    </tr>\n",
       "  </thead>\n",
       "  <tbody>\n",
       "    <tr>\n",
       "      <th>2660</th>\n",
       "      <td>Germany</td>\n",
       "      <td>I-LOC</td>\n",
       "      <td>http://en.wikipedia.org/wiki/Germany</td>\n",
       "      <td>0.961864</td>\n",
       "    </tr>\n",
       "    <tr>\n",
       "      <th>2664</th>\n",
       "      <td>Germany</td>\n",
       "      <td>I-LOC</td>\n",
       "      <td>http://en.wikipedia.org/wiki/Germany_national_...</td>\n",
       "      <td>0.025424</td>\n",
       "    </tr>\n",
       "    <tr>\n",
       "      <th>2661</th>\n",
       "      <td>Germany</td>\n",
       "      <td>I-LOC</td>\n",
       "      <td>http://en.wikipedia.org/wiki/Germany_Davis_Cup...</td>\n",
       "      <td>0.004237</td>\n",
       "    </tr>\n",
       "    <tr>\n",
       "      <th>2662</th>\n",
       "      <td>Germany</td>\n",
       "      <td>I-LOC</td>\n",
       "      <td>http://en.wikipedia.org/wiki/Germany_Fed_Cup_team</td>\n",
       "      <td>0.004237</td>\n",
       "    </tr>\n",
       "    <tr>\n",
       "      <th>2663</th>\n",
       "      <td>Germany</td>\n",
       "      <td>I-LOC</td>\n",
       "      <td>http://en.wikipedia.org/wiki/Germany_men's_nat...</td>\n",
       "      <td>0.004237</td>\n",
       "    </tr>\n",
       "  </tbody>\n",
       "</table>\n",
       "</div>"
      ],
      "text/plain": [
       "       Tokens NERTag                                           WikiPage  \\\n",
       "2660  Germany  I-LOC               http://en.wikipedia.org/wiki/Germany   \n",
       "2664  Germany  I-LOC  http://en.wikipedia.org/wiki/Germany_national_...   \n",
       "2661  Germany  I-LOC  http://en.wikipedia.org/wiki/Germany_Davis_Cup...   \n",
       "2662  Germany  I-LOC  http://en.wikipedia.org/wiki/Germany_Fed_Cup_team   \n",
       "2663  Germany  I-LOC  http://en.wikipedia.org/wiki/Germany_men's_nat...   \n",
       "\n",
       "      Probability  \n",
       "2660     0.961864  \n",
       "2664     0.025424  \n",
       "2661     0.004237  \n",
       "2662     0.004237  \n",
       "2663     0.004237  "
      ]
     },
     "execution_count": 15,
     "metadata": {},
     "output_type": "execute_result"
    }
   ],
   "source": [
    "df_prob.loc['Germany']"
   ]
  },
  {
   "cell_type": "code",
   "execution_count": 16,
   "metadata": {},
   "outputs": [
    {
     "data": {
      "text/html": [
       "<div>\n",
       "<style>\n",
       "    .dataframe thead tr:only-child th {\n",
       "        text-align: right;\n",
       "    }\n",
       "\n",
       "    .dataframe thead th {\n",
       "        text-align: left;\n",
       "    }\n",
       "\n",
       "    .dataframe tbody tr th {\n",
       "        vertical-align: top;\n",
       "    }\n",
       "</style>\n",
       "<table border=\"1\" class=\"dataframe\">\n",
       "  <thead>\n",
       "    <tr style=\"text-align: right;\">\n",
       "      <th></th>\n",
       "      <th>Tokens</th>\n",
       "      <th>NERTag</th>\n",
       "      <th>WikiPage</th>\n",
       "      <th>Probability</th>\n",
       "    </tr>\n",
       "  </thead>\n",
       "  <tbody>\n",
       "    <tr>\n",
       "      <th>1075</th>\n",
       "      <td>British</td>\n",
       "      <td>I-MISC</td>\n",
       "      <td>http://en.wikipedia.org/wiki/United_Kingdom</td>\n",
       "      <td>0.989247</td>\n",
       "    </tr>\n",
       "    <tr>\n",
       "      <th>1074</th>\n",
       "      <td>British</td>\n",
       "      <td>I-MISC</td>\n",
       "      <td>http://en.wikipedia.org/wiki/England</td>\n",
       "      <td>0.010753</td>\n",
       "    </tr>\n",
       "  </tbody>\n",
       "</table>\n",
       "</div>"
      ],
      "text/plain": [
       "       Tokens  NERTag                                     WikiPage  \\\n",
       "1075  British  I-MISC  http://en.wikipedia.org/wiki/United_Kingdom   \n",
       "1074  British  I-MISC         http://en.wikipedia.org/wiki/England   \n",
       "\n",
       "      Probability  \n",
       "1075     0.989247  \n",
       "1074     0.010753  "
      ]
     },
     "execution_count": 16,
     "metadata": {},
     "output_type": "execute_result"
    }
   ],
   "source": [
    "df_prob.loc['British']"
   ]
  },
  {
   "cell_type": "code",
   "execution_count": 17,
   "metadata": {},
   "outputs": [
    {
     "data": {
      "text/html": [
       "<div>\n",
       "<style>\n",
       "    .dataframe thead tr:only-child th {\n",
       "        text-align: right;\n",
       "    }\n",
       "\n",
       "    .dataframe thead th {\n",
       "        text-align: left;\n",
       "    }\n",
       "\n",
       "    .dataframe tbody tr th {\n",
       "        vertical-align: top;\n",
       "    }\n",
       "</style>\n",
       "<table border=\"1\" class=\"dataframe\">\n",
       "  <thead>\n",
       "    <tr style=\"text-align: right;\">\n",
       "      <th></th>\n",
       "      <th>Tokens</th>\n",
       "      <th>NERTag</th>\n",
       "      <th>WikiPage</th>\n",
       "      <th>Probability</th>\n",
       "    </tr>\n",
       "  </thead>\n",
       "  <tbody>\n",
       "    <tr>\n",
       "      <th>1626</th>\n",
       "      <td>Costantino Rocca</td>\n",
       "      <td>I-PER</td>\n",
       "      <td>http://en.wikipedia.org/wiki/Costantino_Rocca</td>\n",
       "      <td>1.0</td>\n",
       "    </tr>\n",
       "  </tbody>\n",
       "</table>\n",
       "</div>"
      ],
      "text/plain": [
       "                Tokens NERTag                                       WikiPage  \\\n",
       "1626  Costantino Rocca  I-PER  http://en.wikipedia.org/wiki/Costantino_Rocca   \n",
       "\n",
       "      Probability  \n",
       "1626          1.0  "
      ]
     },
     "execution_count": 17,
     "metadata": {},
     "output_type": "execute_result"
    }
   ],
   "source": [
    "df_prob.loc['Costantino Rocca']"
   ]
  },
  {
   "cell_type": "markdown",
   "metadata": {},
   "source": [
    "Now we assume that for each token the Wiki Page linked to it will be the one with highest probability. Now the accuracy can be calculating the number of times that this max probability page is not mapped to the token in the aida data"
   ]
  },
  {
   "cell_type": "code",
   "execution_count": 18,
   "metadata": {
    "scrolled": true
   },
   "outputs": [
    {
     "data": {
      "text/plain": [
       "(26286, 1531)"
      ]
     },
     "execution_count": 18,
     "metadata": {},
     "output_type": "execute_result"
    }
   ],
   "source": [
    "correct, wrong = 0, 0\n",
    "for index, row in df.iterrows():\n",
    "    ent = row[\"Tokens\"]\n",
    "    tag = row[\"NERTag\"]\n",
    "    actual_link = row[\"WikiPage\"]\n",
    "    predicted_link = df_prob.loc[df_prob['NERTag'] == tag].loc[ent].iloc[0].loc['WikiPage']\n",
    "    \n",
    "    if actual_link == predicted_link:\n",
    "        correct = correct +1\n",
    "    else:\n",
    "        wrong = wrong +1\n",
    "        \n",
    "correct, wrong\n"
   ]
  },
  {
   "cell_type": "markdown",
   "metadata": {},
   "source": [
    "# Accuracy"
   ]
  },
  {
   "cell_type": "code",
   "execution_count": 19,
   "metadata": {},
   "outputs": [
    {
     "data": {
      "text/plain": [
       "94.49617140597476"
      ]
     },
     "execution_count": 19,
     "metadata": {},
     "output_type": "execute_result"
    }
   ],
   "source": [
    "acc = 100. * correct/(correct+wrong)\n",
    "acc"
   ]
  },
  {
   "cell_type": "code",
   "execution_count": null,
   "metadata": {
    "collapsed": true
   },
   "outputs": [],
   "source": []
  },
  {
   "cell_type": "code",
   "execution_count": null,
   "metadata": {
    "collapsed": true
   },
   "outputs": [],
   "source": []
  }
 ],
 "metadata": {
  "kernelspec": {
   "display_name": "Python 3",
   "language": "python",
   "name": "python3"
  },
  "language_info": {
   "codemirror_mode": {
    "name": "ipython",
    "version": 3
   },
   "file_extension": ".py",
   "mimetype": "text/x-python",
   "name": "python",
   "nbconvert_exporter": "python",
   "pygments_lexer": "ipython3",
   "version": "3.6.6"
  }
 },
 "nbformat": 4,
 "nbformat_minor": 2
}
